{
 "cells": [
  {
   "cell_type": "markdown",
   "id": "703b1ceb",
   "metadata": {},
   "source": [
    "# Word Error Rate\n",
    "## GENFI (ES - EN)\n",
    "Vamos a sacar este parametro en base a codigo que vamos constuyendo y sacando de internet.\n",
    "\n",
    "Primero vamos a sacar a los achivos de sus carpetas de la task force para ordenar esto."
   ]
  },
  {
   "cell_type": "code",
   "execution_count": 2,
   "id": "6a2f9e47",
   "metadata": {},
   "outputs": [
    {
     "name": "stdout",
     "output_type": "stream",
     "text": [
      "✅ Copiado: /home/matias/Documents/UdeSA/CNC/diariziation_error_rate/GENFI_Error_Rates/WER-prediction/Agus/01-167__FREE__transcription.txt -> /home/matias/Documents/UdeSA/CNC/diariziation_error_rate/GENFI_Error_Rates/WER-prediction/all_txt/01-167__FREE__transcription.txt\n",
      "✅ Copiado: /home/matias/Documents/UdeSA/CNC/diariziation_error_rate/GENFI_Error_Rates/WER-prediction/Agus/07-008__FREE__transcription.txt -> /home/matias/Documents/UdeSA/CNC/diariziation_error_rate/GENFI_Error_Rates/WER-prediction/all_txt/07-008__FREE__transcription.txt\n",
      "✅ Copiado: /home/matias/Documents/UdeSA/CNC/diariziation_error_rate/GENFI_Error_Rates/WER-prediction/Agus/01-126__FREE__transcription.txt -> /home/matias/Documents/UdeSA/CNC/diariziation_error_rate/GENFI_Error_Rates/WER-prediction/all_txt/01-126__FREE__transcription.txt\n",
      "✅ Copiado: /home/matias/Documents/UdeSA/CNC/diariziation_error_rate/GENFI_Error_Rates/WER-prediction/Agus/07-011__FREE__transcription.txt -> /home/matias/Documents/UdeSA/CNC/diariziation_error_rate/GENFI_Error_Rates/WER-prediction/all_txt/07-011__FREE__transcription.txt\n",
      "✅ Copiado: /home/matias/Documents/UdeSA/CNC/diariziation_error_rate/GENFI_Error_Rates/WER-prediction/Agus/15-035__FREE__transcription.txt -> /home/matias/Documents/UdeSA/CNC/diariziation_error_rate/GENFI_Error_Rates/WER-prediction/all_txt/15-035__FREE__transcription.txt\n",
      "✅ Copiado: /home/matias/Documents/UdeSA/CNC/diariziation_error_rate/GENFI_Error_Rates/WER-prediction/Agus/17-031__FREE__transcription.txt -> /home/matias/Documents/UdeSA/CNC/diariziation_error_rate/GENFI_Error_Rates/WER-prediction/all_txt/17-031__FREE__transcription.txt\n",
      "✅ Copiado: /home/matias/Documents/UdeSA/CNC/diariziation_error_rate/GENFI_Error_Rates/WER-prediction/Agus/01-122__FREE__transcription.txt -> /home/matias/Documents/UdeSA/CNC/diariziation_error_rate/GENFI_Error_Rates/WER-prediction/all_txt/01-122__FREE__transcription.txt\n",
      "✅ Copiado: /home/matias/Documents/UdeSA/CNC/diariziation_error_rate/GENFI_Error_Rates/WER-prediction/Agus/01-020__FREE__transcription.txt -> /home/matias/Documents/UdeSA/CNC/diariziation_error_rate/GENFI_Error_Rates/WER-prediction/all_txt/01-020__FREE__transcription.txt\n",
      "✅ Copiado: /home/matias/Documents/UdeSA/CNC/diariziation_error_rate/GENFI_Error_Rates/WER-prediction/Agus/15-061__FREE__transcription.txt -> /home/matias/Documents/UdeSA/CNC/diariziation_error_rate/GENFI_Error_Rates/WER-prediction/all_txt/15-061__FREE__transcription.txt\n",
      "✅ Copiado: /home/matias/Documents/UdeSA/CNC/diariziation_error_rate/GENFI_Error_Rates/WER-prediction/Agus/15-033__FREE__transcription.txt -> /home/matias/Documents/UdeSA/CNC/diariziation_error_rate/GENFI_Error_Rates/WER-prediction/all_txt/15-033__FREE__transcription.txt\n",
      "✅ Copiado: /home/matias/Documents/UdeSA/CNC/diariziation_error_rate/GENFI_Error_Rates/WER-prediction/Miguel/15-087__FREE__transcription.txt -> /home/matias/Documents/UdeSA/CNC/diariziation_error_rate/GENFI_Error_Rates/WER-prediction/all_txt/15-087__FREE__transcription.txt\n",
      "✅ Copiado: /home/matias/Documents/UdeSA/CNC/diariziation_error_rate/GENFI_Error_Rates/WER-prediction/Miguel/01-121__FREE__transcription.txt -> /home/matias/Documents/UdeSA/CNC/diariziation_error_rate/GENFI_Error_Rates/WER-prediction/all_txt/01-121__FREE__transcription.txt\n",
      "✅ Copiado: /home/matias/Documents/UdeSA/CNC/diariziation_error_rate/GENFI_Error_Rates/WER-prediction/Miguel/15-025__FREE__transcription.txt -> /home/matias/Documents/UdeSA/CNC/diariziation_error_rate/GENFI_Error_Rates/WER-prediction/all_txt/15-025__FREE__transcription.txt\n",
      "✅ Copiado: /home/matias/Documents/UdeSA/CNC/diariziation_error_rate/GENFI_Error_Rates/WER-prediction/Miguel/01-162__FREE__transcription.txt -> /home/matias/Documents/UdeSA/CNC/diariziation_error_rate/GENFI_Error_Rates/WER-prediction/all_txt/01-162__FREE__transcription.txt\n",
      "✅ Copiado: /home/matias/Documents/UdeSA/CNC/diariziation_error_rate/GENFI_Error_Rates/WER-prediction/Miguel/15-028__FREE__transcription.txt -> /home/matias/Documents/UdeSA/CNC/diariziation_error_rate/GENFI_Error_Rates/WER-prediction/all_txt/15-028__FREE__transcription.txt\n",
      "✅ Copiado: /home/matias/Documents/UdeSA/CNC/diariziation_error_rate/GENFI_Error_Rates/WER-prediction/Miguel/01-168__FREE__transcription.txt -> /home/matias/Documents/UdeSA/CNC/diariziation_error_rate/GENFI_Error_Rates/WER-prediction/all_txt/01-168__FREE__transcription.txt\n",
      "✅ Copiado: /home/matias/Documents/UdeSA/CNC/diariziation_error_rate/GENFI_Error_Rates/WER-prediction/Miguel/15-012__FREE__transcription.txt -> /home/matias/Documents/UdeSA/CNC/diariziation_error_rate/GENFI_Error_Rates/WER-prediction/all_txt/15-012__FREE__transcription.txt\n",
      "✅ Copiado: /home/matias/Documents/UdeSA/CNC/diariziation_error_rate/GENFI_Error_Rates/WER-prediction/Miguel/15-074__FREE__transcription.txt -> /home/matias/Documents/UdeSA/CNC/diariziation_error_rate/GENFI_Error_Rates/WER-prediction/all_txt/15-074__FREE__transcription.txt\n",
      "✅ Copiado: /home/matias/Documents/UdeSA/CNC/diariziation_error_rate/GENFI_Error_Rates/WER-prediction/Miguel/15-006__FREE__transcription.txt -> /home/matias/Documents/UdeSA/CNC/diariziation_error_rate/GENFI_Error_Rates/WER-prediction/all_txt/15-006__FREE__transcription.txt\n",
      "✅ Copiado: /home/matias/Documents/UdeSA/CNC/diariziation_error_rate/GENFI_Error_Rates/WER-prediction/Miguel/17-039__FREE__transcription.txt -> /home/matias/Documents/UdeSA/CNC/diariziation_error_rate/GENFI_Error_Rates/WER-prediction/all_txt/17-039__FREE__transcription.txt\n",
      "✅ Copiado: /home/matias/Documents/UdeSA/CNC/diariziation_error_rate/GENFI_Error_Rates/WER-prediction/Rafa/15-081__FREE__transcription.txt -> /home/matias/Documents/UdeSA/CNC/diariziation_error_rate/GENFI_Error_Rates/WER-prediction/all_txt/15-081__FREE__transcription.txt\n",
      "✅ Copiado: /home/matias/Documents/UdeSA/CNC/diariziation_error_rate/GENFI_Error_Rates/WER-prediction/Rafa/17-029__FREE__transcription.txt -> /home/matias/Documents/UdeSA/CNC/diariziation_error_rate/GENFI_Error_Rates/WER-prediction/all_txt/17-029__FREE__transcription.txt\n",
      "✅ Copiado: /home/matias/Documents/UdeSA/CNC/diariziation_error_rate/GENFI_Error_Rates/WER-prediction/Rafa/13-012__FREE__transcription.txt -> /home/matias/Documents/UdeSA/CNC/diariziation_error_rate/GENFI_Error_Rates/WER-prediction/all_txt/13-012__FREE__transcription.txt\n",
      "✅ Copiado: /home/matias/Documents/UdeSA/CNC/diariziation_error_rate/GENFI_Error_Rates/WER-prediction/Rafa/01-042__FREE__transcription.txt -> /home/matias/Documents/UdeSA/CNC/diariziation_error_rate/GENFI_Error_Rates/WER-prediction/all_txt/01-042__FREE__transcription.txt\n",
      "✅ Copiado: /home/matias/Documents/UdeSA/CNC/diariziation_error_rate/GENFI_Error_Rates/WER-prediction/Rafa/01-113__FREE__transcription.txt -> /home/matias/Documents/UdeSA/CNC/diariziation_error_rate/GENFI_Error_Rates/WER-prediction/all_txt/01-113__FREE__transcription.txt\n",
      "✅ Copiado: /home/matias/Documents/UdeSA/CNC/diariziation_error_rate/GENFI_Error_Rates/WER-prediction/Rafa/15-078__FREE__transcription.txt -> /home/matias/Documents/UdeSA/CNC/diariziation_error_rate/GENFI_Error_Rates/WER-prediction/all_txt/15-078__FREE__transcription.txt\n",
      "✅ Copiado: /home/matias/Documents/UdeSA/CNC/diariziation_error_rate/GENFI_Error_Rates/WER-prediction/Rafa/17-020__FREE__transcription.txt -> /home/matias/Documents/UdeSA/CNC/diariziation_error_rate/GENFI_Error_Rates/WER-prediction/all_txt/17-020__FREE__transcription.txt\n",
      "✅ Copiado: /home/matias/Documents/UdeSA/CNC/diariziation_error_rate/GENFI_Error_Rates/WER-prediction/Rafa/17-010__FREE__transcription.txt -> /home/matias/Documents/UdeSA/CNC/diariziation_error_rate/GENFI_Error_Rates/WER-prediction/all_txt/17-010__FREE__transcription.txt\n",
      "✅ Copiado: /home/matias/Documents/UdeSA/CNC/diariziation_error_rate/GENFI_Error_Rates/WER-prediction/Rafa/13-020__FREE__transcription.txt -> /home/matias/Documents/UdeSA/CNC/diariziation_error_rate/GENFI_Error_Rates/WER-prediction/all_txt/13-020__FREE__transcription.txt\n",
      "✅ Copiado: /home/matias/Documents/UdeSA/CNC/diariziation_error_rate/GENFI_Error_Rates/WER-prediction/Rafa/15-021__FREE__transcription.txt -> /home/matias/Documents/UdeSA/CNC/diariziation_error_rate/GENFI_Error_Rates/WER-prediction/all_txt/15-021__FREE__transcription.txt\n",
      "✅ Copiado: /home/matias/Documents/UdeSA/CNC/diariziation_error_rate/GENFI_Error_Rates/WER-prediction/Rafa/01-066__FREE__transcription.txt -> /home/matias/Documents/UdeSA/CNC/diariziation_error_rate/GENFI_Error_Rates/WER-prediction/all_txt/01-066__FREE__transcription.txt\n",
      "✅ Copiado: /home/matias/Documents/UdeSA/CNC/diariziation_error_rate/GENFI_Error_Rates/WER-prediction/Vanesa/07-050__FREE__transcription.txt -> /home/matias/Documents/UdeSA/CNC/diariziation_error_rate/GENFI_Error_Rates/WER-prediction/all_txt/07-050__FREE__transcription.txt\n",
      "✅ Copiado: /home/matias/Documents/UdeSA/CNC/diariziation_error_rate/GENFI_Error_Rates/WER-prediction/Vanesa/02-077__FREE__transcription.txt -> /home/matias/Documents/UdeSA/CNC/diariziation_error_rate/GENFI_Error_Rates/WER-prediction/all_txt/02-077__FREE__transcription.txt\n",
      "✅ Copiado: /home/matias/Documents/UdeSA/CNC/diariziation_error_rate/GENFI_Error_Rates/WER-prediction/Vanesa/07-028__FREE__transcription.txt -> /home/matias/Documents/UdeSA/CNC/diariziation_error_rate/GENFI_Error_Rates/WER-prediction/all_txt/07-028__FREE__transcription.txt\n",
      "✅ Copiado: /home/matias/Documents/UdeSA/CNC/diariziation_error_rate/GENFI_Error_Rates/WER-prediction/Vanesa/15-007__FREE__transcription.txt -> /home/matias/Documents/UdeSA/CNC/diariziation_error_rate/GENFI_Error_Rates/WER-prediction/all_txt/15-007__FREE__transcription.txt\n",
      "✅ Copiado: /home/matias/Documents/UdeSA/CNC/diariziation_error_rate/GENFI_Error_Rates/WER-prediction/Vanesa/15-046__FREE__transcription.txt -> /home/matias/Documents/UdeSA/CNC/diariziation_error_rate/GENFI_Error_Rates/WER-prediction/all_txt/15-046__FREE__transcription.txt\n",
      "✅ Copiado: /home/matias/Documents/UdeSA/CNC/diariziation_error_rate/GENFI_Error_Rates/WER-prediction/Vanesa/01-127__FREE__transcription.txt -> /home/matias/Documents/UdeSA/CNC/diariziation_error_rate/GENFI_Error_Rates/WER-prediction/all_txt/01-127__FREE__transcription.txt\n",
      "✅ Copiado: /home/matias/Documents/UdeSA/CNC/diariziation_error_rate/GENFI_Error_Rates/WER-prediction/Vanesa/17-001__FREE__transcription.txt -> /home/matias/Documents/UdeSA/CNC/diariziation_error_rate/GENFI_Error_Rates/WER-prediction/all_txt/17-001__FREE__transcription.txt\n",
      "✅ Copiado: /home/matias/Documents/UdeSA/CNC/diariziation_error_rate/GENFI_Error_Rates/WER-prediction/Vanesa/15-083__FREE__transcription.txt -> /home/matias/Documents/UdeSA/CNC/diariziation_error_rate/GENFI_Error_Rates/WER-prediction/all_txt/15-083__FREE__transcription.txt\n",
      "✅ Copiado: /home/matias/Documents/UdeSA/CNC/diariziation_error_rate/GENFI_Error_Rates/WER-prediction/Vanesa/02-053__FREE__transcription.txt -> /home/matias/Documents/UdeSA/CNC/diariziation_error_rate/GENFI_Error_Rates/WER-prediction/all_txt/02-053__FREE__transcription.txt\n",
      "✅ Copiado: /home/matias/Documents/UdeSA/CNC/diariziation_error_rate/GENFI_Error_Rates/WER-prediction/Vanesa/15-069__FREE__transcription.txt -> /home/matias/Documents/UdeSA/CNC/diariziation_error_rate/GENFI_Error_Rates/WER-prediction/all_txt/15-069__FREE__transcription.txt\n"
     ]
    }
   ],
   "source": [
    "import os\n",
    "import shutil\n",
    "\n",
    "def copiar_txt_desde_carpetas(lista_carpetas, carpeta_destino=\"/home/matias/Documents/UdeSA/CNC/diariziation_error_rate/GENFI_Error_Rates/WER-prediction/all_txt\"):\n",
    "    # Crear la carpeta de destino si no existe\n",
    "    if not os.path.exists(carpeta_destino):\n",
    "        os.makedirs(carpeta_destino)\n",
    "\n",
    "    for carpeta in lista_carpetas:\n",
    "        if os.path.exists(carpeta):  # Verificamos que exista la carpeta\n",
    "            for archivo in os.listdir(carpeta):\n",
    "                if archivo.endswith(\".txt\"):\n",
    "                    ruta_origen = os.path.join(carpeta, archivo)\n",
    "                    ruta_destino = os.path.join(carpeta_destino, archivo)\n",
    "\n",
    "                    # Evitamos sobreescribir si hay archivos con el mismo nombre\n",
    "                    contador = 1\n",
    "                    nombre_archivo, extension = os.path.splitext(archivo)\n",
    "                    while os.path.exists(ruta_destino):\n",
    "                        ruta_destino = os.path.join(\n",
    "                            carpeta_destino, f\"{nombre_archivo}_{contador}{extension}\")\n",
    "                        contador += 1\n",
    "\n",
    "                    shutil.copy2(ruta_origen, ruta_destino)\n",
    "                    print(f\"✅ Copiado: {ruta_origen} -> {ruta_destino}\")\n",
    "        else:\n",
    "            print(f\"⚠️ La carpeta {carpeta} no existe.\")\n",
    "\n",
    "# 👉 USO:\n",
    "# Lista de carpetas que querés procesar\n",
    "carpetas_a_buscar = [\n",
    "    \"/home/matias/Documents/UdeSA/CNC/diariziation_error_rate/GENFI_Error_Rates/WER-prediction/Agus\",\n",
    "    \"/home/matias/Documents/UdeSA/CNC/diariziation_error_rate/GENFI_Error_Rates/WER-prediction/Miguel\",\n",
    "    \"/home/matias/Documents/UdeSA/CNC/diariziation_error_rate/GENFI_Error_Rates/WER-prediction/Rafa\",\n",
    "    \"/home/matias/Documents/UdeSA/CNC/diariziation_error_rate/GENFI_Error_Rates/WER-prediction/Vanesa\"\n",
    "]\n",
    "\n",
    "copiar_txt_desde_carpetas(carpetas_a_buscar)\n"
   ]
  },
  {
   "cell_type": "markdown",
   "id": "749d50ab",
   "metadata": {},
   "source": [
    "Las carpetas quedan en:\n",
    "\n",
    "- GROUND TRUTH: diariziation_error_rate/GENFI_Error_Rates/WER-ground-truth/all_txt\n",
    "- PREDICTION: diariziation_error_rate/GENFI_Error_Rates/WER-prediction/all_txt"
   ]
  },
  {
   "cell_type": "code",
   "execution_count": 3,
   "id": "d20a673d",
   "metadata": {},
   "outputs": [
    {
     "name": "stdout",
     "output_type": "stream",
     "text": [
      "✅ Archivo WER-comparacion.csv generado correctamente.\n"
     ]
    }
   ],
   "source": [
    "import os\n",
    "import pandas as pd\n",
    "\n",
    "# Rutas de las carpetas (modificá según corresponda)\n",
    "carpeta_pred = \"/home/matias/Documents/UdeSA/CNC/diariziation_error_rate/GENFI_Error_Rates/WER-prediction/all_txt\"\n",
    "carpeta_gt = \"/home/matias/Documents/UdeSA/CNC/diariziation_error_rate/GENFI_Error_Rates/WER-ground-truth/all_txt\"\n",
    "\n",
    "# Inicializamos una lista donde guardaremos los registros\n",
    "datos = []\n",
    "\n",
    "# Recorremos todos los archivos de la carpeta de prediction\n",
    "for archivo in os.listdir(carpeta_pred):\n",
    "    if archivo.endswith(\".txt\"):\n",
    "        id_archivo = os.path.splitext(archivo)[0]\n",
    "\n",
    "        # Armamos las rutas de ambos archivos\n",
    "        path_pred = os.path.join(carpeta_pred, archivo)\n",
    "        path_gt = os.path.join(carpeta_gt, archivo)\n",
    "\n",
    "        # Leemos prediction\n",
    "        with open(path_pred, \"r\", encoding=\"utf-8\") as f:\n",
    "            prediction = f.read().strip()\n",
    "\n",
    "        # Leemos ground_truth (si existe)\n",
    "        if os.path.exists(path_gt):\n",
    "            with open(path_gt, \"r\", encoding=\"utf-8\") as f:\n",
    "                ground_truth = f.read().strip()\n",
    "        else:\n",
    "            ground_truth = \"\"  # Si no existe, lo dejamos vacío\n",
    "\n",
    "        # Guardamos los datos\n",
    "        datos.append({\n",
    "            \"ID\": id_archivo,\n",
    "            \"ground_truth\": ground_truth,\n",
    "            \"prediction\": prediction\n",
    "        })\n",
    "\n",
    "# Convertimos a DataFrame y exportamos a CSV\n",
    "df = pd.DataFrame(datos)\n",
    "df.to_csv(\"/home/matias/Documents/UdeSA/CNC/diariziation_error_rate/GENFI_Error_Rates/WER-comparacion.csv\", index=False, encoding=\"utf-8\")\n",
    "\n",
    "print(\"✅ Archivo WER-comparacion.csv generado correctamente.\")\n"
   ]
  },
  {
   "cell_type": "markdown",
   "id": "20246fd5",
   "metadata": {},
   "source": [
    "# WER Genfi"
   ]
  },
  {
   "cell_type": "code",
   "execution_count": 7,
   "id": "c2353645",
   "metadata": {},
   "outputs": [
    {
     "name": "stdout",
     "output_type": "stream",
     "text": [
      "WER:  0.11722420765738159\n"
     ]
    }
   ],
   "source": [
    "import os\n",
    "from jiwer import wer\n",
    "import pandas as pd\n",
    "\n",
    "\n",
    "genfi_df = pd.read_csv(\"/home/matias/Documents/UdeSA/CNC/diariziation_error_rate/GENFI_Error_Rates/WER-comparacion.csv\")\n",
    "\n",
    "\n",
    "# calculate over all the dataset\n",
    "wer_list = []\n",
    "wer_dict = {}\n",
    "for index, row in genfi_df.iterrows():\n",
    "    try:\n",
    "        reference = row[\"ground_truth\"]\n",
    "        hypothesis = row[\"prediction\"]\n",
    "        reference = reference.lower()\n",
    "        hypothesis = hypothesis.lower()\n",
    "        reference = reference.replace(\".\", \"\").replace(\",\", \"\").replace(\";\", \"\").replace(\":\", \"\").replace(\"!\", \"\").replace(\"?\", \"\").replace(\"¿\", \"\").replace(\"¡\", \"\")\n",
    "        hypothesis = hypothesis.replace(\".\", \"\").replace(\",\", \"\").replace(\";\", \"\").replace(\":\", \"\").replace(\"!\", \"\").replace(\"?\", \"\")\n",
    "        error = wer(reference, hypothesis)\n",
    "        wer_list.append(error)\n",
    "        wer_dict[row[\"ID\"]] = error\n",
    "    except AttributeError:\n",
    "        print(\"ERROR: \", reference, hypothesis)\n",
    "df = pd.DataFrame.from_dict(wer_dict, orient='index', columns=['WER'])\n",
    "df.to_csv(\"/home/matias/Documents/UdeSA/CNC/diariziation_error_rate/GENFI_Error_Rates/WERs.csv\", index=True, encoding=\"utf-8\")\n",
    "print(\"WER: \", sum(wer_list)/len(wer_list))\n"
   ]
  }
 ],
 "metadata": {
  "kernelspec": {
   "display_name": "der_env",
   "language": "python",
   "name": "python3"
  },
  "language_info": {
   "codemirror_mode": {
    "name": "ipython",
    "version": 3
   },
   "file_extension": ".py",
   "mimetype": "text/x-python",
   "name": "python",
   "nbconvert_exporter": "python",
   "pygments_lexer": "ipython3",
   "version": "3.10.15"
  }
 },
 "nbformat": 4,
 "nbformat_minor": 5
}
