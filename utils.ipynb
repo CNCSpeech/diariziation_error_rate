{
 "cells": [
  {
   "cell_type": "markdown",
   "id": "1ddf1a19",
   "metadata": {},
   "source": [
    "# Nemo a Pyannote\n",
    "Este código sirve para pasar los archivos de anotación de rttm (NeMo) a txt (Pyannote). Luego de esta conversión es posible realizar el error rate."
   ]
  },
  {
   "cell_type": "code",
   "execution_count": 2,
   "id": "bdee9dca",
   "metadata": {},
   "outputs": [
    {
     "name": "stdout",
     "output_type": "stream",
     "text": [
      "✅ Convertido: 15-014__FREE.rttm -> 15-014__FREE.txt\n",
      "✅ Convertido: 17-026__FREE.rttm -> 17-026__FREE.txt\n",
      "✅ Convertido: 01-182__FREE.rttm -> 01-182__FREE.txt\n",
      "✅ Convertido: 07-037__FREE.rttm -> 07-037__FREE.txt\n",
      "✅ Convertido: 01-158__FREE.rttm -> 01-158__FREE.txt\n",
      "✅ Convertido: 15-084__FREE.rttm -> 15-084__FREE.txt\n",
      "✅ Convertido: 07-004__FREE.rttm -> 07-004__FREE.txt\n",
      "✅ Convertido: 15-010__FREE.rttm -> 15-010__FREE.txt\n",
      "✅ Convertido: 01-076__FREE.rttm -> 01-076__FREE.txt\n",
      "✅ Convertido: 01-092__FREE.rttm -> 01-092__FREE.txt\n",
      "✅ Convertido: 15-073__FREE.rttm -> 15-073__FREE.txt\n",
      "✅ Convertido: 02-074__FREE.rttm -> 02-074__FREE.txt\n",
      "✅ Convertido: 15-064__FREE.rttm -> 15-064__FREE.txt\n",
      "✅ Convertido: 07-047__FREE.rttm -> 07-047__FREE.txt\n",
      "✅ Convertido: 01-121__FREE.rttm -> 01-121__FREE.txt\n",
      "✅ Convertido: 07-034__FREE.rttm -> 07-034__FREE.txt\n",
      "✅ Convertido: 01-127__FREE.rttm -> 01-127__FREE.txt\n",
      "✅ Convertido: 01-153__FREE.rttm -> 01-153__FREE.txt\n",
      "✅ Convertido: 17-029__FREE.rttm -> 17-029__FREE.txt\n",
      "✅ Convertido: 01-169__FREE.rttm -> 01-169__FREE.txt\n",
      "✅ Convertido: 01-112__FREE.rttm -> 01-112__FREE.txt\n",
      "✅ Convertido: 01-143__FREE.rttm -> 01-143__FREE.txt\n",
      "✅ Convertido: 17-027__FREE.rttm -> 17-027__FREE.txt\n",
      "✅ Convertido: 17-018__FREE.rttm -> 17-018__FREE.txt\n",
      "✅ Convertido: 17-013__FREE.rttm -> 17-013__FREE.txt\n",
      "✅ Convertido: 15-091__FREE.rttm -> 15-091__FREE.txt\n",
      "✅ Convertido: 07-013__FREE.rttm -> 07-013__FREE.txt\n",
      "✅ Convertido: 02-006__FREE.rttm -> 02-006__FREE.txt\n",
      "✅ Convertido: 17-039__FREE.rttm -> 17-039__FREE.txt\n",
      "✅ Convertido: 02-060__FREE.rttm -> 02-060__FREE.txt\n",
      "✅ Convertido: 15-040__FREE.rttm -> 15-040__FREE.txt\n"
     ]
    }
   ],
   "source": [
    "import os\n",
    "\n",
    "def convertir_rttm_a_txt(rttm_path, txt_path):\n",
    "    with open(rttm_path, 'r') as archivo_rttm, open(txt_path, 'w') as archivo_txt:\n",
    "        for linea in archivo_rttm:\n",
    "            partes = linea.strip().split()\n",
    "            if len(partes) >= 5:\n",
    "                start = float(partes[3])\n",
    "                duracion = float(partes[4])\n",
    "                end = start + duracion\n",
    "\n",
    "                etiqueta = partes[7] if len(partes) > 7 else 'u'\n",
    "\n",
    "                # Mapeo de etiquetas\n",
    "                if etiqueta == 'speaker_0':\n",
    "                    simbolo = 'a'\n",
    "                elif etiqueta == 'speaker_1':\n",
    "                    simbolo = 'b'\n",
    "                else:\n",
    "                    simbolo = 'u'\n",
    "\n",
    "                archivo_txt.write(f\"{start:.6f}\\t{end:.6f}\\t{simbolo}\\n\")\n",
    "\n",
    "def procesar_carpeta_rttm(origen, destino):\n",
    "    # Crear carpeta de salida si no existe\n",
    "    if not os.path.exists(destino):\n",
    "        os.makedirs(destino)\n",
    "\n",
    "    # Procesar todos los .rttm\n",
    "    for archivo in os.listdir(origen):\n",
    "        if archivo.endswith(\".rttm\"):\n",
    "            ruta_rttm = os.path.join(origen, archivo)\n",
    "            nombre_base = os.path.splitext(archivo)[0]\n",
    "            ruta_txt = os.path.join(destino, f\"{nombre_base}.txt\")\n",
    "            convertir_rttm_a_txt(ruta_rttm, ruta_txt)\n",
    "            print(f\"✅ Convertido: {archivo} -> {nombre_base}.txt\")\n",
    "\n",
    "carpeta_entrada = \"GENFI_Error_Rates/DER-prediction/Todos\"      # ⚠️ Reemplazar con la ruta real\n",
    "carpeta_salida = \"GENFI_Error_Rates/DER-prediction/Todos_txt\"  # Carpeta donde guardar los .txt\n",
    "\n",
    "procesar_carpeta_rttm(carpeta_entrada, carpeta_salida)\n"
   ]
  }
 ],
 "metadata": {
  "kernelspec": {
   "display_name": "der_env",
   "language": "python",
   "name": "python3"
  },
  "language_info": {
   "codemirror_mode": {
    "name": "ipython",
    "version": 3
   },
   "file_extension": ".py",
   "mimetype": "text/x-python",
   "name": "python",
   "nbconvert_exporter": "python",
   "pygments_lexer": "ipython3",
   "version": "3.10.15"
  }
 },
 "nbformat": 4,
 "nbformat_minor": 5
}
