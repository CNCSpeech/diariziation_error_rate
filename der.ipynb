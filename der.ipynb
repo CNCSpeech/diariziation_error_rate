{
 "cells": [
  {
   "cell_type": "code",
   "execution_count": 8,
   "metadata": {},
   "outputs": [],
   "source": [
    "import os\n",
    "\n",
    "from pyannote.core import Segment, Annotation\n",
    "from pyannote.metrics.diarization import DiarizationErrorRate\n",
    "metric = DiarizationErrorRate()"
   ]
  },
  {
   "cell_type": "code",
   "execution_count": 9,
   "metadata": {},
   "outputs": [],
   "source": [
    "def txt2annotation(path_txt, annotation=Annotation()):\n",
    "    with open(path_txt, 'r') as f:\n",
    "        for line in f:\n",
    "            if len(line) == 0:\n",
    "                continue\n",
    "            start, end, speaker = line.split()\n",
    "            speaker = speaker.lower()\n",
    "            annotation[Segment(float(start), float(end))] = speaker\n",
    "        return annotation\n"
   ]
  },
  {
   "cell_type": "markdown",
   "metadata": {},
   "source": [
    "# Primero, una prueba sencilla"
   ]
  },
  {
   "cell_type": "code",
   "execution_count": 10,
   "metadata": {},
   "outputs": [
    {
     "data": {
      "image/png": "[encoded data removed]",
      "text/plain": [
       "<pyannote.core.annotation.Annotation at 0x78750ee89930>"
      ]
     },
     "execution_count": 10,
     "metadata": {},
     "output_type": "execute_result"
    }
   ],
   "source": [
    "# reference annotation\n",
    "reference_path = os.path.join('combined_database', 'reference', 'NP', 'CETRAM_AMG-0009_VocalSostenida.txt')\n",
    "reference = txt2annotation(reference_path, annotation=Annotation(uri='test'))\n",
    "reference"
   ]
  },
  {
   "cell_type": "code",
   "execution_count": 11,
   "metadata": {},
   "outputs": [
    {
     "data": {
      "image/png": "[encoded data removed]",
      "text/plain": [
       "<pyannote.core.annotation.Annotation at 0x78750f075570>"
      ]
     },
     "execution_count": 11,
     "metadata": {},
     "output_type": "execute_result"
    }
   ],
   "source": [
    "# hypothesis annotation\n",
    "hypothesis_path = os.path.join('combined_database', 'hypothesis', 'NP', 'CETRAM_AMG-0009_VocalSostenida.txt')\n",
    "hypothesis = txt2annotation(hypothesis_path, annotation=Annotation(uri='test'))\n",
    "hypothesis"
   ]
  },
  {
   "cell_type": "code",
   "execution_count": 12,
   "metadata": {},
   "outputs": [
    {
     "name": "stderr",
     "output_type": "stream",
     "text": [
      "/home/aleph/diariziation_error_rate/.env/lib/python3.10/site-packages/pyannote/metrics/utils.py:200: UserWarning: 'uem' was approximated by the union of 'reference' and 'hypothesis' extents.\n",
      "  warnings.warn(\n"
     ]
    },
    {
     "data": {
      "text/plain": [
       "{'missed detection': 0.5278220000000011,\n",
       " 'correct': 4.696732,\n",
       " 'false alarm': 0.1664920000000003,\n",
       " 'confusion': 0.09477599999999953,\n",
       " 'total': 5.319330000000001,\n",
       " 'diarization error rate': 0.1483438703746526}"
      ]
     },
     "execution_count": 12,
     "metadata": {},
     "output_type": "execute_result"
    }
   ],
   "source": [
    "# DER\n",
    "metric(reference, hypothesis, detailed=True)"
   ]
  },
  {
   "cell_type": "code",
   "execution_count": 13,
   "metadata": {},
   "outputs": [
    {
     "name": "stdout",
     "output_type": "stream",
     "text": [
      "      diarization error rate total correct correct false alarm false alarm missed detection missed detection confusion confusion\n",
      "                           %                     %                       %                                 %                   %\n",
      "item                                                                                                                            \n",
      "test                   14.83  5.32    4.70   88.30        0.17        3.13             0.53             9.92      0.09      1.78\n",
      "TOTAL                  14.83  5.32    4.70   88.30        0.17        3.13             0.53             9.92      0.09      1.78\n"
     ]
    }
   ],
   "source": [
    "# full report and reset metric\n",
    "report = metric.report(display=True)\n",
    "metric.reset()"
   ]
  },
  {
   "cell_type": "markdown",
   "metadata": {},
   "source": [
    "# Ahora obtengamos un DER para todos los pares reference - hypothesis de la base combinada"
   ]
  },
  {
   "cell_type": "code",
   "execution_count": 14,
   "metadata": {},
   "outputs": [
    {
     "name": "stderr",
     "output_type": "stream",
     "text": [
      "/home/aleph/diariziation_error_rate/.env/lib/python3.10/site-packages/pyannote/metrics/utils.py:200: UserWarning: 'uem' was approximated by the union of 'reference' and 'hypothesis' extents.\n",
      "  warnings.warn(\n"
     ]
    },
    {
     "name": "stdout",
     "output_type": "stream",
     "text": [
      "0.3142695401613999\n",
      "                                         diarization error rate   total correct correct false alarm false alarm missed detection missed detection confusion confusion\n",
      "                                                              %                       %                       %                                 %                   %\n",
      "item                                                                                                                                                                 \n",
      "GERO_COH_125_Fugu.txt                                     26.30   32.27   23.79   73.70        0.00        0.00             8.49            26.30      0.00      0.00\n",
      "CETRAM_AMG-0031_RecuerdoAgradable.txt                     19.86   41.62   34.69   83.36        1.34        3.22             5.08            12.21      1.85      4.44\n",
      "Slachevsky_AD_13_s.txt                                    66.36   11.65    4.85   41.60        0.93        7.96             4.30            36.88      2.51     21.52\n",
      "GERO_COH_139_LetraP.txt                                   59.07   28.35   12.14   42.82        0.54        1.90            10.84            38.25      5.37     18.92\n",
      "GERO_COH_279_LetraA.txt                                   38.81   18.90   11.57   61.24        0.01        0.05             6.84            36.17      0.49      2.59\n",
      "FONDECYT_SL00359_VocalA.txt                               24.33   18.51   14.01   75.67        0.00        0.00             4.50            24.33      0.00      0.00\n",
      "CETRAM_AMG-0051_LetraP.txt                                40.07   11.44    6.87   60.01        0.01        0.08             4.58            39.99      0.00      0.00\n",
      "CETRAM_AMG-0021_LecturaDeParrafo.txt                       9.17   76.77   69.87   91.00        0.13        0.17             6.91             9.00      0.00      0.00\n",
      "GERO_COH_002_Desagradable.txt                             21.21   77.09   67.55   87.63        6.82        8.84             8.30            10.77      1.23      1.60\n",
      "FONDECYT_SL00352_Renarracion.txt                         132.42   12.41   11.35   91.45       15.37      123.87             1.06             8.55      0.00      0.00\n",
      "GERO_COH_029_DiaTipico.txt                                16.32  105.41   88.56   84.02        0.36        0.34            12.32            11.69      4.53      4.30\n",
      "GERO_COH_045_Fugu.txt                                     22.66   12.97   10.41   80.30        0.38        2.97             2.55            19.70      0.00      0.00\n",
      "GERO_COH_074_Lamina2.txt                                  16.99   60.82   50.49   83.01        0.00        0.00            10.33            16.99      0.00      0.00\n",
      "CETRAM_AMG-0028_NarracionDeHistoria.txt                   22.79   30.59   27.80   90.88        4.18       13.67             2.50             8.16      0.29      0.96\n",
      "Slachevsky_CTR_037_f.txt                                  34.97   17.34   11.30   65.17        0.02        0.14             3.82            22.02      2.22     12.81\n",
      "GERO_COH_243_Lamina1.txt                                  35.99   34.05   22.10   64.92        0.31        0.91            10.55            30.99      1.39      4.09\n",
      "GERO_COH_190_LetraS.txt                                  140.05   12.52    8.03   64.14       13.05      104.19             2.27            18.15      2.22     17.71\n",
      "GERO_COH_178_Animales.txt                                 32.95   56.25   39.44   70.11        1.72        3.07             9.28            16.50      7.53     13.39\n",
      "GERO_COH_104_Agradable.txt                                15.47   47.44   40.10   84.53        0.00        0.00             7.34            15.47      0.00      0.00\n",
      "GERO_COH_125_Fugu.txt                                     18.85   29.27   23.77   81.20        0.02        0.05             5.50            18.80      0.00      0.00\n",
      "CETRAM_AMG-0031_RecuerdoAgradable.txt                     17.36   40.37   34.73   86.02        1.37        3.39             3.86             9.57      1.78      4.41\n",
      "Slachevsky_AD_13_s.txt                                    68.35   15.73    5.51   35.03        0.53        3.38             7.98            50.72      2.24     14.24\n",
      "GERO_COH_139_LetraP.txt                                   59.03   26.00   11.69   44.97        1.04        4.00             9.00            34.61      5.31     20.42\n",
      "GERO_COH_279_LetraA.txt                                   33.52   16.92   11.39   67.35        0.15        0.86             4.99            29.51      0.53      3.15\n",
      "FONDECYT_SL00359_VocalA.txt                               19.69   17.44   14.01   80.31        0.00        0.00             3.43            19.69      0.00      0.00\n",
      "CETRAM_AMG-0051_LetraP.txt                                40.26   11.42    6.85   59.98        0.03        0.24             4.57            40.02      0.00      0.00\n",
      "CETRAM_AMG-0039_DiaTipico.txt                             23.38   39.06   32.00   81.92        2.07        5.30             4.97            12.72      2.09      5.36\n",
      "CETRAM_AMG-0009_VocalSostenida.txt                        12.76    5.33    4.74   88.85        0.09        1.61             0.46             8.65      0.13      2.50\n",
      "GERO_COH_002_Desagradable.txt                             27.53   92.37   70.43   76.25        3.49        3.78            20.26            21.93      1.68      1.82\n",
      "FONDECYT_SL00352_Renarracion.txt                          10.08   25.63   24.88   97.11        1.84        7.18             0.74             2.89      0.00      0.00\n",
      "GERO_COH_029_DiaTipico.txt                                22.16  111.71   87.52   78.35        0.56        0.51            18.83            16.85      5.36      4.80\n",
      "GERO_COH_045_Fugu.txt                                     12.58   11.86   10.58   89.22        0.21        1.80             1.28            10.78      0.00      0.00\n",
      "GERO_COH_045_Agradable.txt                                19.03   15.08   12.23   81.07        0.02        0.10             2.85            18.93      0.00      0.00\n",
      "GERO_COH_074_Lamina2.txt                                  17.23   59.99   50.07   83.47        0.42        0.70             9.92            16.53      0.00      0.00\n",
      "CETRAM_AMG-0028_NarracionDeHistoria.txt                   25.05   30.69   27.62   89.97        4.61       15.02             3.03             9.86      0.05      0.16\n",
      "Slachevsky_CTR_037_f.txt                                  59.00   27.57   11.31   41.00        0.00        0.00            14.03            50.87      2.24      8.13\n",
      "GERO_COH_243_Lamina1.txt                                  31.83   32.96   22.88   69.42        0.41        1.25             9.57            29.03      0.51      1.54\n",
      "GERO_COH_178_Animales.txt                                 35.76   55.48   38.20   68.86        2.57        4.63             9.35            16.86      7.92     14.28\n",
      "CETRAM_AMG-0005_DescripcionDeDibujo1.txt                  22.22   52.43   40.87   77.95        0.09        0.16            10.72            20.44      0.85      1.62\n",
      "GERO_COH_249_Fugu.txt                                     37.01   65.78   42.70   64.91        1.26        1.92            22.78            34.63      0.30      0.46\n",
      "GERO_COH_034_Desagradable.txt                             35.39   25.11   16.31   64.96        0.09        0.35             8.02            31.93      0.78      3.11\n",
      "CETRAM_AMG-0012_NarracionDeHistoria.txt                   24.98   28.54   21.85   76.56        0.44        1.54             6.69            23.44      0.00      0.00\n",
      "GERO_COH_102_LetraS.txt                                   38.80   17.42   10.78   61.90        0.12        0.69             5.89            33.81      0.75      4.29\n",
      "GERO_COH_212_LetraA.txt                                   61.75   14.96    9.13   61.05        3.41       22.80             5.25            35.07      0.58      3.88\n",
      "CETRAM_AMG-0014_VocalSostenida.txt                        81.97   13.47    2.43   18.03        0.00        0.00            11.04            81.97      0.00      0.00\n",
      "CETRAM_AMG-0026_AutoSinRuedas.txt                          9.00   12.59   11.71   93.03        0.26        2.03             0.88             6.97      0.00      0.00\n",
      "GERO_COH_117_Agradable.txt                                18.40   54.21   44.40   81.91        0.17        0.31             5.97            11.01      3.84      7.08\n",
      "CETRAM_AMG-0019_LetraP.txt                                33.02   16.45   12.56   76.38        1.55        9.40             3.88            23.62      0.00      0.00\n",
      "GERO_COH_119_LetraS.txt                                   57.65   36.85   18.40   49.93        2.79        7.57            18.45            50.07      0.00      0.00\n",
      "CETRAM_AMG-0035_Pataka.txt                                55.15    6.24    6.24  100.00        3.44       55.15             0.00             0.00      0.00      0.00\n",
      "FONDECYT_SL0349_Lectura.txt                               40.92  149.38   88.64   59.34        0.38        0.25            60.75            40.66      0.00      0.00\n",
      "Slachevsky_CTR_031_Animales.txt                           39.69   34.23   23.15   67.65        2.51        7.33            10.40            30.39      0.67      1.96\n",
      "GERO_COH_028_LetraA.txt                                   25.31   14.66   11.67   79.64        0.73        4.95             2.72            18.55      0.27      1.82\n",
      "Slachevsky_DFT_18_Día_Típico.txt                          26.84   78.53   60.66   77.24        3.21        4.09            17.87            22.76      0.00      0.00\n",
      "GERO_COH_194_Lamina1.txt                                  26.90   55.38   40.55   73.22        0.06        0.11            11.51            20.77      3.33      6.01\n",
      "GERO_COH_038_Fugu.txt                                     22.63   46.98   36.38   77.45        0.04        0.08            10.59            22.55      0.00      0.00\n",
      "GERO_COH_072_LetraF.txt                                   55.45   21.79   10.14   46.54        0.43        1.99             4.46            20.49      7.18     32.97\n",
      "CETRAM_AMG-0037_Animales.txt                              13.47   25.04   24.94   99.61        3.28       13.09             0.10             0.39      0.00      0.00\n",
      "FONDECYT_BE00215_Renarracion.txt                          11.72   19.15   18.43   96.22        1.52        7.94             0.72             3.78      0.00      0.00\n",
      "GERO_COH_194_Animales.txt                                 45.12   19.96   12.26   61.45        1.31        6.57             3.93            19.71      3.76     18.84\n",
      "GERO_COH_033_LetraA.txt                                   50.58   18.69   13.15   70.38        3.92       20.96             2.40            12.85      3.13     16.76\n",
      "GERO_COH_185_Lamina2.txt                                  34.20   53.35   41.28   77.38        6.18       11.58            10.81            20.27      1.26      2.36\n",
      "GERO_COH_225_Animales.txt                                 62.35   26.17   13.55   51.75        3.69       14.10             6.09            23.28      6.53     24.97\n",
      "Slachevsky_CTR_027_Desagradable.txt                       12.85   59.53   53.45   89.79        1.57        2.64             5.48             9.21      0.59      1.00\n",
      "GERO_COH_116_LetraA.txt                                   52.74   30.67   17.74   57.84        3.25       10.58            11.69            38.12      1.24      4.04\n",
      "GERO_COH_134_LetraA.txt                                   48.72   47.58   24.73   51.98        0.33        0.70            22.51            47.31      0.34      0.71\n",
      "GERO_COH_242_LetraS.txt                                   91.20   14.39    6.33   44.02        5.07       35.21             2.96            20.61      5.09     35.37\n",
      "GERO_COH_145_Animales.txt                                 66.53   24.11   12.26   50.83        4.19       17.36             3.81            15.82      8.04     33.35\n",
      "GERO_COH_180_Animales.txt                                 34.06   34.10   25.64   75.18        3.15        9.24             7.69            22.56      0.77      2.26\n",
      "FONDECYT_SL00320_Lectura.txt                              16.24   68.07   57.09   83.87        0.08        0.11            10.98            16.13      0.00      0.00\n",
      "GERO_COH_167_LetraP.txt                                   37.06   21.29   15.68   73.65        2.28       10.71             5.36            25.15      0.25      1.20\n",
      "FONDECYT_SL00325_Renarracion.txt                          18.98   40.35   33.70   83.51        1.01        2.49             6.65            16.49      0.00      0.00\n",
      "Slachevsky_CTR_037_Desagradable.txt                       17.16   66.31   55.06   83.03        0.12        0.18            10.24            15.44      1.02      1.54\n",
      "GERO_COH_161_DiaTipico.txt                                23.08  217.13  167.42   77.10        0.41        0.19            49.72            22.90      0.00      0.00\n",
      "GERO_COH_200_Lamina1.txt                                  31.91   77.53   53.79   69.38        1.00        1.29            20.40            26.31      3.34      4.31\n",
      "FONDECYT_BE00143_VocalA.txt                               99.58   10.92    0.30    2.78        0.26        2.36            10.62            97.22      0.00      0.00\n",
      "GERO_COH_285_LetraF.txt                                   40.77   27.50   17.43   63.38        1.14        4.15             8.64            31.41      1.43      5.21\n",
      "Slachevsky_AD_33_Desagradable.txt                         25.92   34.61   30.00   86.68        4.36       12.60             4.61            13.32      0.00      0.00\n",
      "GERO_COH_114_LetraA.txt                                   64.38   43.58   15.78   36.21        0.26        0.59            21.46            49.24      6.34     14.56\n",
      "GERO_COH_125_Fugu.txt                                     23.04   30.91   23.79   76.96        0.00        0.00             7.12            23.04      0.00      0.00\n",
      "CETRAM_AMG-0031_RecuerdoAgradable.txt                     22.15   43.49   34.95   80.35        1.09        2.50             6.70            15.40      1.85      4.25\n",
      "Slachevsky_AD_13_s.txt                                    77.26   22.15    5.04   22.74        0.00        0.00            13.87            62.60      3.25     14.66\n",
      "GERO_COH_139_LetraP.txt                                   63.96   32.59   12.09   37.10        0.35        1.06            14.89            45.69      5.61     17.21\n",
      "GERO_COH_279_LetraA.txt                                   52.45   24.78   11.79   47.55        0.00        0.00            12.71            51.30      0.29      1.15\n",
      "FONDECYT_SL00359_VocalA.txt                               25.59   18.82   14.01   74.41        0.00        0.00             4.82            25.59      0.00      0.00\n",
      "CETRAM_AMG-0051_LetraP.txt                                64.76   19.51    6.88   35.24        0.00        0.00            12.64            64.76      0.00      0.00\n",
      "CETRAM_AMG-0039_DiaTipico.txt                             32.66   45.91   32.46   70.71        1.54        3.37            11.30            24.60      2.15      4.69\n",
      "CETRAM_AMG-0009_VocalSostenida.txt                        14.83    5.32    4.70   88.30        0.17        3.13             0.53             9.92      0.09      1.78\n",
      "GERO_COH_002_Desagradable.txt                             32.38   93.21   68.49   73.47        5.46        5.86            23.07            24.75      1.66      1.78\n",
      "GERO_COH_029_DiaTipico.txt                                25.13  119.35   89.36   74.87        0.00        0.00            25.91            21.71      4.08      3.42\n",
      "GERO_COH_119_Agradable.txt                                15.84   28.73   24.18   84.16        0.00        0.00             4.55            15.84      0.00      0.00\n",
      "GERO_COH_045_Fugu.txt                                     27.16   14.24   10.39   72.95        0.02        0.11             3.45            24.26      0.40      2.79\n",
      "GERO_COH_045_Agradable.txt                                25.84   16.50   12.24   74.17        0.00        0.01             4.26            25.83      0.00      0.00\n",
      "GERO_COH_074_Lamina2.txt                                  22.66   65.19   50.46   77.39        0.04        0.06            14.74            22.61      0.00      0.00\n",
      "CETRAM_AMG-0028_NarracionDeHistoria.txt                   15.48   32.23   29.55   91.70        2.32        7.19             2.27             7.03      0.41      1.27\n",
      "Slachevsky_CTR_037_f.txt                                  56.32   25.07   11.13   44.39        0.18        0.71            11.70            46.67      2.24      8.94\n",
      "GERO_COH_243_Lamina1.txt                                  35.35   35.04   22.79   65.04        0.13        0.39            11.37            32.45      0.88      2.51\n",
      "GERO_COH_178_Animales.txt                                 42.79   72.25   41.41   57.31        0.07        0.10            23.63            32.71      7.21      9.98\n",
      "TOTAL                                                     31.43 3841.62 2779.59   72.35      145.27        3.78           910.75            23.71    151.29      3.94\n"
     ]
    }
   ],
   "source": [
    "# find all txt files in reference directory\n",
    "reference_dir = os.path.join('combined_database', 'reference')\n",
    "reference_files = [f for f in os.listdir(reference_dir) if f.endswith('.txt')]\n",
    "# os walk to find all txt files in reference directory\n",
    "count = 0\n",
    "for root, dirs, files in os.walk(reference_dir):\n",
    "    for file in files:\n",
    "        if file.endswith('.txt'):\n",
    "                reference_path = (os.path.join(root, file))\n",
    "                annotation = Annotation(uri=file)\n",
    "                reference = txt2annotation(reference_path, annotation)\n",
    "\n",
    "                # find corresponding hypothesis file\n",
    "                hypothesis_path = reference_path.replace('reference', 'hypothesis')\n",
    "                annotation = Annotation(uri=file)\n",
    "                hypothesis = txt2annotation(hypothesis_path, annotation)\n",
    "\n",
    "                # compute DER\n",
    "                metric(reference, hypothesis, detailed=True)\n",
    "\n",
    "# cumulative report\n",
    "print(abs(metric))\n",
    "report = abs(metric.report(display=True))\n",
    "report.to_csv('DER_report.csv')\n",
    "metric.reset() # reset metric for next iteration"
   ]
  },
  {
   "cell_type": "markdown",
   "metadata": {},
   "source": [
    "### Rename hypothesis files in case they have the _diarized suffix"
   ]
  },
  {
   "cell_type": "code",
   "execution_count": 15,
   "metadata": {},
   "outputs": [],
   "source": [
    "# # change the name of files in\n",
    "# # combined_database/hypothesis/XX, deleting the suffix \"_diarization\"\n",
    "\n",
    "# find all txt files in hypothesis directory\n",
    "# hypothesis_dir = os.path.join('combined_database', 'hypothesis', 'SG')\n",
    "# for f in os.listdir(hypothesis_dir):\n",
    "#     if f.endswith('_diarization.txt'):\n",
    "#         os.rename(os.path.join(hypothesis_dir, f), os.path.join(hypothesis_dir, f.replace('_diarization', '')))"
   ]
  }
 ],
 "metadata": {
  "kernelspec": {
   "display_name": ".env",
   "language": "python",
   "name": "python3"
  },
  "language_info": {
   "codemirror_mode": {
    "name": "ipython",
    "version": 3
   },
   "file_extension": ".py",
   "mimetype": "text/x-python",
   "name": "python",
   "nbconvert_exporter": "python",
   "pygments_lexer": "ipython3",
   "version": "3.10.12"
  }
 },
 "nbformat": 4,
 "nbformat_minor": 2
}
